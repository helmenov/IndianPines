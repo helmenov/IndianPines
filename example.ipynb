{
 "cells": [
  {
   "cell_type": "code",
   "execution_count": 1,
   "metadata": {},
   "outputs": [],
   "source": [
    "import dataset\n",
    "from matplotlib import colors\n",
    "from matplotlib import pyplot\n",
    "import pandas as pd\n",
    "import numpy as np\n",
    "\n",
    "pca = 5\n",
    "recategorize=True\n",
    "background=False\n",
    "IndianPines = dataset.load_IndianPines(pca, recategorize, background)"
   ]
  },
  {
   "cell_type": "code",
   "execution_count": 2,
   "metadata": {},
   "outputs": [
    {
     "data": {
      "text/plain": [
       "['DESCR',\n",
       " 'cordinate_names',\n",
       " 'cordinates',\n",
       " 'feature_names',\n",
       " 'features',\n",
       " 'filename',\n",
       " 'hex_names',\n",
       " 'target',\n",
       " 'target_names']"
      ]
     },
     "execution_count": 2,
     "metadata": {},
     "output_type": "execute_result"
    }
   ],
   "source": [
    "dir(IndianPines)"
   ]
  },
  {
   "cell_type": "code",
   "execution_count": 20,
   "metadata": {},
   "outputs": [
    {
     "name": "stdout",
     "output_type": "stream",
     "text": [
      "<class 'pandas.core.frame.DataFrame'>\n",
      "MultiIndex: 10320 entries, (0, 0) to (143, 32)\n",
      "Data columns (total 7 columns):\n",
      "PC1          10320 non-null float64\n",
      "PC2          10320 non-null float64\n",
      "PC3          10320 non-null float64\n",
      "PC4          10320 non-null float64\n",
      "PC5          10320 non-null float64\n",
      "category     10320 non-null object\n",
      "hex-color    10320 non-null object\n",
      "dtypes: float64(5), object(2)\n",
      "memory usage: 607.0+ KB\n"
     ]
    }
   ],
   "source": [
    "cordinates_df = pd.DataFrame(IndianPines.cordinates, columns=IndianPines.cordinate_names)\n",
    "features_df = pd.DataFrame(IndianPines.features, columns=IndianPines.feature_names)\n",
    "target_df = pd.DataFrame(IndianPines.target_names[IndianPines.target],columns=['category'])\n",
    "hex_df = pd.DataFrame(IndianPines.hex_names[IndianPines.target],columns=['hex-color'])\n",
    "data_df = pd.concat([cordinates_df,features_df,target_df,hex_df],axis=1)\n",
    "data_df = data_df.set_index(['column#','line#'])\n",
    "data_df.info()"
   ]
  },
  {
   "cell_type": "code",
   "execution_count": 21,
   "metadata": {},
   "outputs": [
    {
     "data": {
      "text/plain": [
       "column#  line#\n",
       "0        0        0.568190\n",
       "         1       -0.644221\n",
       "         2       -1.011396\n",
       "         3       -0.764560\n",
       "         4        0.154656\n",
       "         5        1.420347\n",
       "         6        2.019141\n",
       "         7        1.283642\n",
       "         8        0.505570\n",
       "         9        0.684659\n",
       "Name: PC2, dtype: float64"
      ]
     },
     "metadata": {},
     "output_type": "display_data"
    }
   ],
   "source": [
    "# Variable 'PC2'  of  head 5 samples\n",
    "display(data_df['PC2'].head(10))"
   ]
  },
  {
   "cell_type": "code",
   "execution_count": 22,
   "metadata": {},
   "outputs": [
    {
     "data": {
      "text/plain": [
       "PC1          0.891344\n",
       "PC2           1.88493\n",
       "PC3          -1.26528\n",
       "PC4         -0.561144\n",
       "PC5         -0.261861\n",
       "category     Soybeans\n",
       "hex-color     #da70d6\n",
       "Name: (10, 30), dtype: object"
      ]
     },
     "metadata": {},
     "output_type": "display_data"
    }
   ],
   "source": [
    "# datas of  sample cordicates(10,30) \n",
    "display(data_df.loc[(10,30)])"
   ]
  },
  {
   "cell_type": "code",
   "execution_count": 23,
   "metadata": {},
   "outputs": [
    {
     "data": {
      "text/html": [
       "<div>\n",
       "<style scoped>\n",
       "    .dataframe tbody tr th:only-of-type {\n",
       "        vertical-align: middle;\n",
       "    }\n",
       "\n",
       "    .dataframe tbody tr th {\n",
       "        vertical-align: top;\n",
       "    }\n",
       "\n",
       "    .dataframe thead th {\n",
       "        text-align: right;\n",
       "    }\n",
       "</style>\n",
       "<table border=\"1\" class=\"dataframe\">\n",
       "  <thead>\n",
       "    <tr style=\"text-align: right;\">\n",
       "      <th></th>\n",
       "      <th>category</th>\n",
       "    </tr>\n",
       "  </thead>\n",
       "  <tbody>\n",
       "    <tr>\n",
       "      <th>Soybeans</th>\n",
       "      <td>4050</td>\n",
       "    </tr>\n",
       "    <tr>\n",
       "      <th>Corn</th>\n",
       "      <td>2502</td>\n",
       "    </tr>\n",
       "    <tr>\n",
       "      <th>Woods</th>\n",
       "      <td>1294</td>\n",
       "    </tr>\n",
       "    <tr>\n",
       "      <th>Grass</th>\n",
       "      <td>1244</td>\n",
       "    </tr>\n",
       "    <tr>\n",
       "      <th>Hay-windrowed</th>\n",
       "      <td>489</td>\n",
       "    </tr>\n",
       "    <tr>\n",
       "      <th>Bldg-Grass-Tree-Drives</th>\n",
       "      <td>380</td>\n",
       "    </tr>\n",
       "    <tr>\n",
       "      <th>Wheat</th>\n",
       "      <td>212</td>\n",
       "    </tr>\n",
       "    <tr>\n",
       "      <th>Stone-steel towers</th>\n",
       "      <td>95</td>\n",
       "    </tr>\n",
       "    <tr>\n",
       "      <th>Alfalfa</th>\n",
       "      <td>54</td>\n",
       "    </tr>\n",
       "  </tbody>\n",
       "</table>\n",
       "</div>"
      ],
      "text/plain": [
       "                        category\n",
       "Soybeans                    4050\n",
       "Corn                        2502\n",
       "Woods                       1294\n",
       "Grass                       1244\n",
       "Hay-windrowed                489\n",
       "Bldg-Grass-Tree-Drives       380\n",
       "Wheat                        212\n",
       "Stone-steel towers            95\n",
       "Alfalfa                       54"
      ]
     },
     "metadata": {},
     "output_type": "display_data"
    }
   ],
   "source": [
    "display(pd.DataFrame(target_df['category'].value_counts()))"
   ]
  },
  {
   "cell_type": "code",
   "execution_count": 24,
   "metadata": {},
   "outputs": [
    {
     "data": {
      "text/plain": [
       "<matplotlib.image.AxesImage at 0x7f28177a8ef0>"
      ]
     },
     "execution_count": 24,
     "metadata": {},
     "output_type": "execute_result"
    },
    {
     "data": {
      "image/png": "[encoded data removed]",
      "text/plain": [
       "<Figure size 432x288 with 1 Axes>"
      ]
     },
     "metadata": {
      "needs_background": "light"
     },
     "output_type": "display_data"
    }
   ],
   "source": [
    "if background == False:\n",
    "   new_cordinates = pd.DataFrame([(x, y) for x in range(0,145) for y in range(0,145)],columns=['column#','line#'])\n",
    "   hex_old_cordinates = pd.concat([cordinates_df,hex_df],axis=1)\n",
    "   cordinates_hex = pd.merge(new_cordinates, hex_old_cordinates,on=['column#','line#'],how='left')\n",
    "   cordinates_hex = cordinates_hex.fillna('#ffffff')\n",
    "   hex_df = cordinates_hex\n",
    "\n",
    "pyplot.imshow(colors.to_rgba_array(hex_df['hex-color'].values).reshape([145,145,4]))\n",
    "                                                                "
   ]
  }
 ],
 "metadata": {
  "kernelspec": {
   "display_name": "IndianPines",
   "language": "python",
   "name": "indianpines"
  },
  "language_info": {
   "codemirror_mode": {
    "name": "ipython",
    "version": 3
   },
   "file_extension": ".py",
   "mimetype": "text/x-python",
   "name": "python",
   "nbconvert_exporter": "python",
   "pygments_lexer": "ipython3",
   "version": "3.7.2+"
  }
 },
 "nbformat": 4,
 "nbformat_minor": 2
}
