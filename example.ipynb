{
 "cells": [
  {
   "cell_type": "code",
   "execution_count": 1,
   "metadata": {},
   "outputs": [],
   "source": [
    "import IndianPines as pines\n",
    "from matplotlib import colors\n",
    "from matplotlib import pyplot \n",
    "import pandas as pd\n",
    "import numpy as np"
   ]
  },
  {
   "cell_type": "markdown",
   "metadata": {},
   "source": [
    "# 145 x 145 pixels, 200 features(WaterAbsorption channels are reduced), include background category\n"
   ]
  },
  {
   "cell_type": "code",
   "execution_count": 2,
   "metadata": {},
   "outputs": [
    {
     "name": "stderr",
     "output_type": "stream",
     "text": [
      "100%|██████████| 1.33G/1.33G [16:32<00:00, 1.34MB/s] \n",
      "--2022-07-06 00:20:34--  https://www.ehu.eus/ccwintco/uploads/c/c4/Indian_pines_gt.mat\n",
      "www.ehu.eus (www.ehu.eus) をDNSに問いあわせています... 158.227.0.65\n",
      "www.ehu.eus (www.ehu.eus)|158.227.0.65|:443 に接続しています... 接続しました。\n",
      "HTTP による接続要求を送信しました、応答を待っています... 200 OK\n",
      "長さ: 1125 (1.1K)\n",
      "`Indian_pines_gt.mat' に保存中\n",
      "\n",
      "     0K .                                                     100%  179M=0s\n",
      "\n",
      "2022-07-06 00:20:35 (179 MB/s) - `Indian_pines_gt.mat' へ保存完了 [1125/1125]\n",
      "\n"
     ]
    }
   ],
   "source": [
    "conf_default = {\n",
    "}\n",
    "IndianPines_default = pines.load(**conf_default)\n",
    "\n",
    "IndianPines = IndianPines_default"
   ]
  },
  {
   "cell_type": "code",
   "execution_count": 3,
   "metadata": {},
   "outputs": [
    {
     "name": "stdout",
     "output_type": "stream",
     "text": [
      "<class 'pandas.core.frame.DataFrame'>\n",
      "MultiIndex: 21025 entries, (0, 0) to (144, 144)\n",
      "Columns: 202 entries, c00 to hex-color\n",
      "dtypes: float64(200), object(2)\n",
      "memory usage: 32.5+ MB\n"
     ]
    }
   ],
   "source": [
    "cordinates_df = pd.DataFrame(IndianPines.cordinates, columns=IndianPines.cordinate_names)\n",
    "features_df = pd.DataFrame(IndianPines.features, columns=IndianPines.feature_names)\n",
    "target_df = pd.DataFrame(IndianPines.target_names[IndianPines.target],columns=['category'])\n",
    "hex_df = pd.DataFrame(IndianPines.hex_names[IndianPines.target],columns=['hex-color'])\n",
    "data_df = pd.concat([cordinates_df,features_df,target_df,hex_df],axis=1)\n",
    "data_df = data_df.set_index(['column#','row#'])\n",
    "data_df.info()"
   ]
  },
  {
   "cell_type": "markdown",
   "metadata": {},
   "source": [
    "## 2nd Variable of  head 10 samples\n"
   ]
  },
  {
   "cell_type": "code",
   "execution_count": 4,
   "metadata": {},
   "outputs": [
    {
     "data": {
      "text/plain": [
       "column#  row#\n",
       "0        0       4142.0\n",
       "         1       4266.0\n",
       "         2       4266.0\n",
       "         3       4258.0\n",
       "         4       4018.0\n",
       "         5       4262.0\n",
       "         6       4134.0\n",
       "         7       4014.0\n",
       "         8       4142.0\n",
       "         9       4273.0\n",
       "Name: c01, dtype: float64"
      ]
     },
     "metadata": {},
     "output_type": "display_data"
    }
   ],
   "source": [
    "display(data_df['c01'].head(10))"
   ]
  },
  {
   "cell_type": "markdown",
   "metadata": {},
   "source": [
    "## datas of  sample cordicates(10,30) \n"
   ]
  },
  {
   "cell_type": "code",
   "execution_count": 5,
   "metadata": {},
   "outputs": [
    {
     "data": {
      "text/plain": [
       "c00                   3162.0\n",
       "c01                   4008.0\n",
       "c02                   4324.0\n",
       "c03                   4193.0\n",
       "c04                   4514.0\n",
       "                  ...       \n",
       "c216                  1041.0\n",
       "c217                  1025.0\n",
       "c218                  1005.0\n",
       "category     Soybeans-notill\n",
       "hex-color            #a04e9e\n",
       "Name: (10, 30), Length: 202, dtype: object"
      ]
     },
     "metadata": {},
     "output_type": "display_data"
    }
   ],
   "source": [
    "display(data_df.loc[(10,30)])"
   ]
  },
  {
   "cell_type": "markdown",
   "metadata": {},
   "source": [
    "## ingredients"
   ]
  },
  {
   "cell_type": "code",
   "execution_count": 6,
   "metadata": {},
   "outputs": [
    {
     "data": {
      "text/html": [
       "<div>\n",
       "<style scoped>\n",
       "    .dataframe tbody tr th:only-of-type {\n",
       "        vertical-align: middle;\n",
       "    }\n",
       "\n",
       "    .dataframe tbody tr th {\n",
       "        vertical-align: top;\n",
       "    }\n",
       "\n",
       "    .dataframe thead th {\n",
       "        text-align: right;\n",
       "    }\n",
       "</style>\n",
       "<table border=\"1\" class=\"dataframe\">\n",
       "  <thead>\n",
       "    <tr style=\"text-align: right;\">\n",
       "      <th></th>\n",
       "      <th>category</th>\n",
       "    </tr>\n",
       "  </thead>\n",
       "  <tbody>\n",
       "    <tr>\n",
       "      <th>Alfalfa</th>\n",
       "      <td>46</td>\n",
       "    </tr>\n",
       "    <tr>\n",
       "      <th>Bldg-Grass-Tree-Drives</th>\n",
       "      <td>386</td>\n",
       "    </tr>\n",
       "    <tr>\n",
       "      <th>Corn</th>\n",
       "      <td>237</td>\n",
       "    </tr>\n",
       "    <tr>\n",
       "      <th>Corn-min</th>\n",
       "      <td>830</td>\n",
       "    </tr>\n",
       "    <tr>\n",
       "      <th>Corn-notill</th>\n",
       "      <td>1428</td>\n",
       "    </tr>\n",
       "    <tr>\n",
       "      <th>Grass/Pasture</th>\n",
       "      <td>483</td>\n",
       "    </tr>\n",
       "    <tr>\n",
       "      <th>Grass/Trees</th>\n",
       "      <td>730</td>\n",
       "    </tr>\n",
       "    <tr>\n",
       "      <th>Grass/pasture-mowed</th>\n",
       "      <td>28</td>\n",
       "    </tr>\n",
       "    <tr>\n",
       "      <th>Hay-windrowed</th>\n",
       "      <td>478</td>\n",
       "    </tr>\n",
       "    <tr>\n",
       "      <th>Oats</th>\n",
       "      <td>20</td>\n",
       "    </tr>\n",
       "    <tr>\n",
       "      <th>Soybean-clean</th>\n",
       "      <td>593</td>\n",
       "    </tr>\n",
       "    <tr>\n",
       "      <th>Soybeans-min</th>\n",
       "      <td>2455</td>\n",
       "    </tr>\n",
       "    <tr>\n",
       "      <th>Soybeans-notill</th>\n",
       "      <td>972</td>\n",
       "    </tr>\n",
       "    <tr>\n",
       "      <th>Stone-steel towers</th>\n",
       "      <td>93</td>\n",
       "    </tr>\n",
       "    <tr>\n",
       "      <th>Wheat</th>\n",
       "      <td>205</td>\n",
       "    </tr>\n",
       "    <tr>\n",
       "      <th>Woods</th>\n",
       "      <td>1265</td>\n",
       "    </tr>\n",
       "    <tr>\n",
       "      <th>background</th>\n",
       "      <td>10776</td>\n",
       "    </tr>\n",
       "  </tbody>\n",
       "</table>\n",
       "</div>"
      ],
      "text/plain": [
       "                        category\n",
       "Alfalfa                       46\n",
       "Bldg-Grass-Tree-Drives       386\n",
       "Corn                         237\n",
       "Corn-min                     830\n",
       "Corn-notill                 1428\n",
       "Grass/Pasture                483\n",
       "Grass/Trees                  730\n",
       "Grass/pasture-mowed           28\n",
       "Hay-windrowed                478\n",
       "Oats                          20\n",
       "Soybean-clean                593\n",
       "Soybeans-min                2455\n",
       "Soybeans-notill              972\n",
       "Stone-steel towers            93\n",
       "Wheat                        205\n",
       "Woods                       1265\n",
       "background                 10776"
      ]
     },
     "metadata": {},
     "output_type": "display_data"
    }
   ],
   "source": [
    "#display(pd.DataFrame(target_df['category'].value_counts()))\n",
    "display(pd.DataFrame(target_df['category'].value_counts().sort_index()))\n",
    "\n",
    "# it is different from the well-known mat-format [dataset](https://www.ehu.eus/ccwintco/index.php?title=Hyperspectral_Remote_Sensing_Scenes#Indian_Pines)\n",
    "# The difference reasons why is unknown!"
   ]
  },
  {
   "cell_type": "markdown",
   "metadata": {},
   "source": [
    "## category colored map"
   ]
  },
  {
   "cell_type": "code",
   "execution_count": 7,
   "metadata": {},
   "outputs": [
    {
     "data": {
      "text/plain": [
       "<matplotlib.image.AxesImage at 0x173618c40>"
      ]
     },
     "execution_count": 7,
     "metadata": {},
     "output_type": "execute_result"
    },
    {
     "data": {
      "image/png": "[encoded data removed]",
      "text/plain": [
       "<Figure size 432x288 with 1 Axes>"
      ]
     },
     "metadata": {
      "needs_background": "light"
     },
     "output_type": "display_data"
    }
   ],
   "source": [
    "mapcordinates_df = pd.DataFrame([(x, y) for x in range(0,145) for y in range(0,145)],columns=['column#','row#'])\n",
    "map_df = pd.merge(mapcordinates_df,data_df['hex-color'],on=['column#','row#'],how='left')\n",
    "map_df = map_df.fillna('#ffffffff')\n",
    "pyplot.imshow(colors.to_rgba_array(map_df['hex-color'].values).reshape([145,145,4]))\n"
   ]
  },
  {
   "cell_type": "markdown",
   "metadata": {},
   "source": [
    "# Recategorize, no background, include Water Absorption Channels"
   ]
  },
  {
   "cell_type": "code",
   "execution_count": 8,
   "metadata": {},
   "outputs": [],
   "source": [
    "# 145*145-#n_background samples, 5 features, exclude background category\n",
    "conf_5f_10c = {\n",
    "    \"pca\": 5,\n",
    "    \"recategorize_rule\": 'recategorize17to10.csv',\n",
    "    \"include_background\":False,\n",
    "    \"exclude_WaterAbsorptionChannels\":False\n",
    "}\n",
    "IndianPines_5f_10c = pines.load(**conf_5f_10c)\n",
    "\n",
    "IndianPines = IndianPines_5f_10c"
   ]
  },
  {
   "cell_type": "code",
   "execution_count": 9,
   "metadata": {},
   "outputs": [
    {
     "name": "stdout",
     "output_type": "stream",
     "text": [
      "<class 'pandas.core.frame.DataFrame'>\n",
      "MultiIndex: 10201 entries, (0, 0) to (143, 32)\n",
      "Data columns (total 7 columns):\n",
      " #   Column     Non-Null Count  Dtype  \n",
      "---  ------     --------------  -----  \n",
      " 0   PC1        10201 non-null  float64\n",
      " 1   PC2        10201 non-null  float64\n",
      " 2   PC3        10201 non-null  float64\n",
      " 3   PC4        10201 non-null  float64\n",
      " 4   PC5        10201 non-null  float64\n",
      " 5   category   10201 non-null  object \n",
      " 6   hex-color  10201 non-null  object \n",
      "dtypes: float64(5), object(2)\n",
      "memory usage: 608.2+ KB\n"
     ]
    }
   ],
   "source": [
    "cordinates_df = pd.DataFrame(IndianPines.cordinates, columns=IndianPines.cordinate_names)\n",
    "features_df = pd.DataFrame(IndianPines.features, columns=IndianPines.feature_names)\n",
    "target_df = pd.DataFrame(IndianPines.target_names[IndianPines.target],columns=['category'])\n",
    "hex_df = pd.DataFrame(IndianPines.hex_names[IndianPines.target],columns=['hex-color'])\n",
    "data_df = pd.concat([cordinates_df,features_df,target_df,hex_df],axis=1)\n",
    "data_df = data_df.set_index(['column#','row#'])\n",
    "data_df.info()"
   ]
  },
  {
   "cell_type": "markdown",
   "metadata": {},
   "source": [
    "## 2nd Variable of  head 5 samples\n"
   ]
  },
  {
   "cell_type": "code",
   "execution_count": 10,
   "metadata": {},
   "outputs": [
    {
     "data": {
      "text/plain": [
       "column#  row#\n",
       "0        0       0.955829\n",
       "         1       1.059690\n",
       "         2       1.097705\n",
       "         3       1.056844\n",
       "         4       0.945539\n",
       "         5       0.855142\n",
       "         6       0.842147\n",
       "         7       0.927748\n",
       "         8       0.988220\n",
       "         9       0.959378\n",
       "Name: PC1, dtype: float64"
      ]
     },
     "metadata": {},
     "output_type": "display_data"
    }
   ],
   "source": [
    "display(data_df['PC1'].head(10))"
   ]
  },
  {
   "cell_type": "markdown",
   "metadata": {},
   "source": [
    "## datas of  sample cordicates(10,30) \n"
   ]
  },
  {
   "cell_type": "code",
   "execution_count": 11,
   "metadata": {},
   "outputs": [
    {
     "data": {
      "text/plain": [
       "PC1          0.891344\n",
       "PC2          1.884929\n",
       "PC3         -1.265276\n",
       "PC4         -0.561144\n",
       "PC5         -0.261861\n",
       "category     Soybeans\n",
       "hex-color     #da70d6\n",
       "Name: (10, 30), dtype: object"
      ]
     },
     "metadata": {},
     "output_type": "display_data"
    }
   ],
   "source": [
    "display(data_df.loc[(10,30)])"
   ]
  },
  {
   "cell_type": "markdown",
   "metadata": {},
   "source": [
    "## ingredients"
   ]
  },
  {
   "cell_type": "code",
   "execution_count": 12,
   "metadata": {},
   "outputs": [
    {
     "data": {
      "text/html": [
       "<div>\n",
       "<style scoped>\n",
       "    .dataframe tbody tr th:only-of-type {\n",
       "        vertical-align: middle;\n",
       "    }\n",
       "\n",
       "    .dataframe tbody tr th {\n",
       "        vertical-align: top;\n",
       "    }\n",
       "\n",
       "    .dataframe thead th {\n",
       "        text-align: right;\n",
       "    }\n",
       "</style>\n",
       "<table border=\"1\" class=\"dataframe\">\n",
       "  <thead>\n",
       "    <tr style=\"text-align: right;\">\n",
       "      <th></th>\n",
       "      <th>category</th>\n",
       "    </tr>\n",
       "  </thead>\n",
       "  <tbody>\n",
       "    <tr>\n",
       "      <th>Alfalfa</th>\n",
       "      <td>46</td>\n",
       "    </tr>\n",
       "    <tr>\n",
       "      <th>Bldg-Grass-Tree-Drives</th>\n",
       "      <td>386</td>\n",
       "    </tr>\n",
       "    <tr>\n",
       "      <th>Corn</th>\n",
       "      <td>2495</td>\n",
       "    </tr>\n",
       "    <tr>\n",
       "      <th>Grass</th>\n",
       "      <td>1213</td>\n",
       "    </tr>\n",
       "    <tr>\n",
       "      <th>Hay-windrowed</th>\n",
       "      <td>478</td>\n",
       "    </tr>\n",
       "    <tr>\n",
       "      <th>Soybeans</th>\n",
       "      <td>4020</td>\n",
       "    </tr>\n",
       "    <tr>\n",
       "      <th>Stone-steel towers</th>\n",
       "      <td>93</td>\n",
       "    </tr>\n",
       "    <tr>\n",
       "      <th>Wheat</th>\n",
       "      <td>205</td>\n",
       "    </tr>\n",
       "    <tr>\n",
       "      <th>Woods</th>\n",
       "      <td>1265</td>\n",
       "    </tr>\n",
       "  </tbody>\n",
       "</table>\n",
       "</div>"
      ],
      "text/plain": [
       "                        category\n",
       "Alfalfa                       46\n",
       "Bldg-Grass-Tree-Drives       386\n",
       "Corn                        2495\n",
       "Grass                       1213\n",
       "Hay-windrowed                478\n",
       "Soybeans                    4020\n",
       "Stone-steel towers            93\n",
       "Wheat                        205\n",
       "Woods                       1265"
      ]
     },
     "metadata": {},
     "output_type": "display_data"
    }
   ],
   "source": [
    "#display(pd.DataFrame(target_df['category'].value_counts()))\n",
    "display(pd.DataFrame(target_df['category'].value_counts().sort_index()))"
   ]
  },
  {
   "cell_type": "markdown",
   "metadata": {},
   "source": [
    "## category colored map"
   ]
  },
  {
   "cell_type": "code",
   "execution_count": 13,
   "metadata": {},
   "outputs": [
    {
     "data": {
      "text/plain": [
       "Text(0.5, 1.0, 'Recategorized 9 categories')"
      ]
     },
     "execution_count": 13,
     "metadata": {},
     "output_type": "execute_result"
    },
    {
     "data": {
      "image/png": "[encoded data removed]",
      "text/plain": [
       "<Figure size 432x288 with 2 Axes>"
      ]
     },
     "metadata": {
      "needs_background": "light"
     },
     "output_type": "display_data"
    }
   ],
   "source": [
    "mapcordinates_df = pd.DataFrame([(x, y) for x in range(0,145) for y in range(0,145)],columns=['column#','row#'])\n",
    "map_df2 = pd.merge(mapcordinates_df,data_df['hex-color'],on=['column#','row#'],how='left')\n",
    "map_df2 = map_df2.fillna('#ffffffff')\n",
    "\n",
    "fig = pyplot.figure()\n",
    "ax1 = fig.add_subplot(1,2,1)\n",
    "ax1.imshow(colors.to_rgba_array(map_df['hex-color'].values).reshape([145,145,4]))\n",
    "ax1.set_title('Original 16 categories')\n",
    "ax2 = fig.add_subplot(1,2,2)\n",
    "ax2.imshow(colors.to_rgba_array(map_df2['hex-color'].values).reshape([145,145,4]))\n",
    "ax2.set_title('Recategorized 9 categories')\n"
   ]
  },
  {
   "cell_type": "markdown",
   "metadata": {},
   "source": [
    "# Training"
   ]
  },
  {
   "cell_type": "code",
   "execution_count": 14,
   "metadata": {},
   "outputs": [
    {
     "data": {
      "text/html": [
       "<div>\n",
       "<style scoped>\n",
       "    .dataframe tbody tr th:only-of-type {\n",
       "        vertical-align: middle;\n",
       "    }\n",
       "\n",
       "    .dataframe tbody tr th {\n",
       "        vertical-align: top;\n",
       "    }\n",
       "\n",
       "    .dataframe thead th {\n",
       "        text-align: right;\n",
       "    }\n",
       "</style>\n",
       "<table border=\"1\" class=\"dataframe\">\n",
       "  <thead>\n",
       "    <tr style=\"text-align: right;\">\n",
       "      <th></th>\n",
       "      <th>category</th>\n",
       "    </tr>\n",
       "  </thead>\n",
       "  <tbody>\n",
       "    <tr>\n",
       "      <th>Bldg-Grass-Tree-Drives</th>\n",
       "      <td>15</td>\n",
       "    </tr>\n",
       "    <tr>\n",
       "      <th>Woods</th>\n",
       "      <td>15</td>\n",
       "    </tr>\n",
       "    <tr>\n",
       "      <th>Stone-steel towers</th>\n",
       "      <td>15</td>\n",
       "    </tr>\n",
       "    <tr>\n",
       "      <th>Hay-windrowed</th>\n",
       "      <td>15</td>\n",
       "    </tr>\n",
       "    <tr>\n",
       "      <th>Soybeans</th>\n",
       "      <td>15</td>\n",
       "    </tr>\n",
       "    <tr>\n",
       "      <th>Corn</th>\n",
       "      <td>15</td>\n",
       "    </tr>\n",
       "    <tr>\n",
       "      <th>Alfalfa</th>\n",
       "      <td>15</td>\n",
       "    </tr>\n",
       "    <tr>\n",
       "      <th>Wheat</th>\n",
       "      <td>15</td>\n",
       "    </tr>\n",
       "    <tr>\n",
       "      <th>Grass</th>\n",
       "      <td>15</td>\n",
       "    </tr>\n",
       "  </tbody>\n",
       "</table>\n",
       "</div>"
      ],
      "text/plain": [
       "                        category\n",
       "Bldg-Grass-Tree-Drives        15\n",
       "Woods                         15\n",
       "Stone-steel towers            15\n",
       "Hay-windrowed                 15\n",
       "Soybeans                      15\n",
       "Corn                          15\n",
       "Alfalfa                       15\n",
       "Wheat                         15\n",
       "Grass                         15"
      ]
     },
     "metadata": {},
     "output_type": "display_data"
    },
    {
     "data": {
      "text/plain": [
       "<matplotlib.image.AxesImage at 0x28d7d31f0>"
      ]
     },
     "execution_count": 14,
     "metadata": {},
     "output_type": "execute_result"
    },
    {
     "data": {
      "image/png": "[encoded data removed]",
      "text/plain": [
       "<Figure size 432x288 with 1 Axes>"
      ]
     },
     "metadata": {
      "needs_background": "light"
     },
     "output_type": "display_data"
    }
   ],
   "source": [
    "Traininglist='data/TrainingSampleExample.csv'\n",
    "trlist_df = pd.read_csv(Traininglist)\n",
    "mapcordinates_df = pd.DataFrame([(x, y) for x in range(0,145) for y in range(0,145)],columns=['column#','row#'])\n",
    "trlist_df = pd.concat([mapcordinates_df,trlist_df],axis=1)\n",
    "trlist_df = trlist_df.set_index(['column#','row#'])\n",
    "tr_df = pd.merge(data_df,trlist_df,on=['column#','row#'],how='left')\n",
    "\n",
    "# sampled by tr05\n",
    "trdata_df = tr_df.query('tr05>0') \n",
    "\n",
    "# incredients\n",
    "display(pd.DataFrame(trdata_df['category'].value_counts()))\n",
    "\n",
    "# map\n",
    "tr_cordinates_hex = pd.merge(mapcordinates_df,trdata_df['hex-color'],on=['column#','row#'],how='left')\n",
    "tr_cordinates_hex = tr_cordinates_hex.fillna('#ffffffff')\n",
    "pyplot.imshow(colors.to_rgba_array(tr_cordinates_hex['hex-color'].values).reshape([145,145,4]))"
   ]
  },
  {
   "cell_type": "code",
   "execution_count": 15,
   "metadata": {},
   "outputs": [],
   "source": [
    "if conf_5f_10c in ['include_background'] and conf_default['include_background'] == False:\n",
    "   new_cordinates = pd.DataFrame([(x, y) for x in range(0,145) for y in range(0,145)],columns=['column#','row#'])\n",
    "   hex_old_cordinates = pd.concat([cordinates_df,hex_df],axis=1)\n",
    "   cordinates_hex = pd.merge(new_cordinates, hex_old_cordinates,on=['column#','row#'],how='left')\n",
    "   cordinates_hex = cordinates_hex.fillna('#ffffff')\n",
    "   hex_df = cordinates_hex\n",
    "   pyplot.imshow(colors.to_rgba_array(hex_df['hex-color'].values).reshape([145,145,4]))\n",
    "                                                                "
   ]
  },
  {
   "cell_type": "code",
   "execution_count": null,
   "metadata": {},
   "outputs": [],
   "source": []
  }
 ],
 "metadata": {
  "kernelspec": {
   "display_name": "Python 3.10.0 ('.venv': poetry)",
   "language": "python",
   "name": "python3"
  },
  "language_info": {
   "codemirror_mode": {
    "name": "ipython",
    "version": 3
   },
   "file_extension": ".py",
   "mimetype": "text/x-python",
   "name": "python",
   "nbconvert_exporter": "python",
   "pygments_lexer": "ipython3",
   "version": "3.10.0"
  },
  "vscode": {
   "interpreter": {
    "hash": "7e8ced276e30e3f66d32633da90d3011a246f563ae1ec095f262d165db770436"
   }
  }
 },
 "nbformat": 4,
 "nbformat_minor": 2
}
