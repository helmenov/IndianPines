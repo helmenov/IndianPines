{
 "cells": [
  {
   "cell_type": "markdown",
   "id": "6ef16ecb",
   "metadata": {},
   "source": [
    "# Example\n",
    "\n",
    "load IndianPines Datasets\n"
   ]
  },
  {
   "cell_type": "code",
   "execution_count": 1,
   "id": "1c69c394",
   "metadata": {
    "scrolled": true
   },
   "outputs": [],
   "source": [
    "from IndianPines import load as load_pines\n",
    "import pandas as pd\n",
    "import numpy as np"
   ]
  },
  {
   "cell_type": "markdown",
   "id": "ceba8566",
   "metadata": {},
   "source": [
    "## load background or not\n",
    "\n",
    "- `include_background=True`: load background datasets (label background as `0`) (*default*)\n"
   ]
  },
  {
   "cell_type": "code",
   "execution_count": 2,
   "id": "c0785bdf",
   "metadata": {
    "scrolled": true
   },
   "outputs": [
    {
     "data": {
      "text/html": [
       "<div>\n",
       "<style scoped>\n",
       "    .dataframe tbody tr th:only-of-type {\n",
       "        vertical-align: middle;\n",
       "    }\n",
       "\n",
       "    .dataframe tbody tr th {\n",
       "        vertical-align: top;\n",
       "    }\n",
       "\n",
       "    .dataframe thead th {\n",
       "        text-align: right;\n",
       "    }\n",
       "</style>\n",
       "<table border=\"1\" class=\"dataframe\">\n",
       "  <thead>\n",
       "    <tr style=\"text-align: right;\">\n",
       "      <th></th>\n",
       "      <th>target_names</th>\n",
       "      <th>count</th>\n",
       "    </tr>\n",
       "  </thead>\n",
       "  <tbody>\n",
       "    <tr>\n",
       "      <th>0</th>\n",
       "      <td>background</td>\n",
       "      <td>10776</td>\n",
       "    </tr>\n",
       "    <tr>\n",
       "      <th>1</th>\n",
       "      <td>Alfalfa</td>\n",
       "      <td>46</td>\n",
       "    </tr>\n",
       "    <tr>\n",
       "      <th>2</th>\n",
       "      <td>Corn-notill</td>\n",
       "      <td>1428</td>\n",
       "    </tr>\n",
       "    <tr>\n",
       "      <th>3</th>\n",
       "      <td>Corn-min</td>\n",
       "      <td>830</td>\n",
       "    </tr>\n",
       "    <tr>\n",
       "      <th>4</th>\n",
       "      <td>Corn</td>\n",
       "      <td>237</td>\n",
       "    </tr>\n",
       "    <tr>\n",
       "      <th>5</th>\n",
       "      <td>Grass/Pasture</td>\n",
       "      <td>483</td>\n",
       "    </tr>\n",
       "    <tr>\n",
       "      <th>6</th>\n",
       "      <td>Grass/Trees</td>\n",
       "      <td>730</td>\n",
       "    </tr>\n",
       "    <tr>\n",
       "      <th>7</th>\n",
       "      <td>Grass/pasture-mowed</td>\n",
       "      <td>28</td>\n",
       "    </tr>\n",
       "    <tr>\n",
       "      <th>8</th>\n",
       "      <td>Hay-windrowed</td>\n",
       "      <td>478</td>\n",
       "    </tr>\n",
       "    <tr>\n",
       "      <th>9</th>\n",
       "      <td>Oats</td>\n",
       "      <td>20</td>\n",
       "    </tr>\n",
       "    <tr>\n",
       "      <th>10</th>\n",
       "      <td>Soybeans-notill</td>\n",
       "      <td>972</td>\n",
       "    </tr>\n",
       "    <tr>\n",
       "      <th>11</th>\n",
       "      <td>Soybeans-min</td>\n",
       "      <td>2455</td>\n",
       "    </tr>\n",
       "    <tr>\n",
       "      <th>12</th>\n",
       "      <td>Soybean-clean</td>\n",
       "      <td>593</td>\n",
       "    </tr>\n",
       "    <tr>\n",
       "      <th>13</th>\n",
       "      <td>Wheat</td>\n",
       "      <td>205</td>\n",
       "    </tr>\n",
       "    <tr>\n",
       "      <th>14</th>\n",
       "      <td>Woods</td>\n",
       "      <td>1265</td>\n",
       "    </tr>\n",
       "    <tr>\n",
       "      <th>15</th>\n",
       "      <td>Bldg-Grass-Tree-Drives</td>\n",
       "      <td>386</td>\n",
       "    </tr>\n",
       "    <tr>\n",
       "      <th>16</th>\n",
       "      <td>Stone-steel towers</td>\n",
       "      <td>93</td>\n",
       "    </tr>\n",
       "    <tr>\n",
       "      <th>17</th>\n",
       "      <td>SUM</td>\n",
       "      <td>21025</td>\n",
       "    </tr>\n",
       "  </tbody>\n",
       "</table>\n",
       "</div>"
      ],
      "text/plain": [
       "              target_names  count\n",
       "0               background  10776\n",
       "1                  Alfalfa     46\n",
       "2              Corn-notill   1428\n",
       "3                 Corn-min    830\n",
       "4                     Corn    237\n",
       "5            Grass/Pasture    483\n",
       "6              Grass/Trees    730\n",
       "7      Grass/pasture-mowed     28\n",
       "8            Hay-windrowed    478\n",
       "9                     Oats     20\n",
       "10         Soybeans-notill    972\n",
       "11            Soybeans-min   2455\n",
       "12           Soybean-clean    593\n",
       "13                   Wheat    205\n",
       "14                   Woods   1265\n",
       "15  Bldg-Grass-Tree-Drives    386\n",
       "16      Stone-steel towers     93\n",
       "17                     SUM  21025"
      ]
     },
     "execution_count": 2,
     "metadata": {},
     "output_type": "execute_result"
    }
   ],
   "source": [
    "pines_bgTrue = load_pines(include_background=True)\n",
    "\n",
    "count = list()\n",
    "c_all = 0\n",
    "for t,name in enumerate(pines_bgTrue.target_names):\n",
    "    c = pines_bgTrue.target[pines_bgTrue.target==t].size\n",
    "    count.append(c)\n",
    "    c_all += c\n",
    "count.append(c_all)\n",
    "count = np.array(count, dtype=int)\n",
    "\n",
    "pd.DataFrame(dict(target_names=np.hstack([pines_bgTrue.target_names,'SUM']),count=count))"
   ]
  },
  {
   "cell_type": "markdown",
   "id": "d530e28a",
   "metadata": {},
   "source": [
    "- `include_background=False`: load exclude background, target_names includes `background`\n"
   ]
  },
  {
   "cell_type": "code",
   "execution_count": 3,
   "id": "7098d522",
   "metadata": {
    "scrolled": true
   },
   "outputs": [],
   "source": [
    "pines_bgFalse = load_pines(include_background=False)"
   ]
  },
  {
   "cell_type": "code",
   "execution_count": 4,
   "id": "520f4ed2",
   "metadata": {
    "scrolled": true
   },
   "outputs": [
    {
     "data": {
      "text/html": [
       "<div>\n",
       "<style scoped>\n",
       "    .dataframe tbody tr th:only-of-type {\n",
       "        vertical-align: middle;\n",
       "    }\n",
       "\n",
       "    .dataframe tbody tr th {\n",
       "        vertical-align: top;\n",
       "    }\n",
       "\n",
       "    .dataframe thead th {\n",
       "        text-align: right;\n",
       "    }\n",
       "</style>\n",
       "<table border=\"1\" class=\"dataframe\">\n",
       "  <thead>\n",
       "    <tr style=\"text-align: right;\">\n",
       "      <th></th>\n",
       "      <th>target_names</th>\n",
       "      <th>count</th>\n",
       "    </tr>\n",
       "  </thead>\n",
       "  <tbody>\n",
       "    <tr>\n",
       "      <th>0</th>\n",
       "      <td>background</td>\n",
       "      <td>0</td>\n",
       "    </tr>\n",
       "    <tr>\n",
       "      <th>1</th>\n",
       "      <td>Alfalfa</td>\n",
       "      <td>46</td>\n",
       "    </tr>\n",
       "    <tr>\n",
       "      <th>2</th>\n",
       "      <td>Corn-notill</td>\n",
       "      <td>1428</td>\n",
       "    </tr>\n",
       "    <tr>\n",
       "      <th>3</th>\n",
       "      <td>Corn-min</td>\n",
       "      <td>830</td>\n",
       "    </tr>\n",
       "    <tr>\n",
       "      <th>4</th>\n",
       "      <td>Corn</td>\n",
       "      <td>237</td>\n",
       "    </tr>\n",
       "    <tr>\n",
       "      <th>5</th>\n",
       "      <td>Grass/Pasture</td>\n",
       "      <td>483</td>\n",
       "    </tr>\n",
       "    <tr>\n",
       "      <th>6</th>\n",
       "      <td>Grass/Trees</td>\n",
       "      <td>730</td>\n",
       "    </tr>\n",
       "    <tr>\n",
       "      <th>7</th>\n",
       "      <td>Grass/pasture-mowed</td>\n",
       "      <td>28</td>\n",
       "    </tr>\n",
       "    <tr>\n",
       "      <th>8</th>\n",
       "      <td>Hay-windrowed</td>\n",
       "      <td>478</td>\n",
       "    </tr>\n",
       "    <tr>\n",
       "      <th>9</th>\n",
       "      <td>Oats</td>\n",
       "      <td>20</td>\n",
       "    </tr>\n",
       "    <tr>\n",
       "      <th>10</th>\n",
       "      <td>Soybeans-notill</td>\n",
       "      <td>972</td>\n",
       "    </tr>\n",
       "    <tr>\n",
       "      <th>11</th>\n",
       "      <td>Soybeans-min</td>\n",
       "      <td>2455</td>\n",
       "    </tr>\n",
       "    <tr>\n",
       "      <th>12</th>\n",
       "      <td>Soybean-clean</td>\n",
       "      <td>593</td>\n",
       "    </tr>\n",
       "    <tr>\n",
       "      <th>13</th>\n",
       "      <td>Wheat</td>\n",
       "      <td>205</td>\n",
       "    </tr>\n",
       "    <tr>\n",
       "      <th>14</th>\n",
       "      <td>Woods</td>\n",
       "      <td>1265</td>\n",
       "    </tr>\n",
       "    <tr>\n",
       "      <th>15</th>\n",
       "      <td>Bldg-Grass-Tree-Drives</td>\n",
       "      <td>386</td>\n",
       "    </tr>\n",
       "    <tr>\n",
       "      <th>16</th>\n",
       "      <td>Stone-steel towers</td>\n",
       "      <td>93</td>\n",
       "    </tr>\n",
       "    <tr>\n",
       "      <th>17</th>\n",
       "      <td>SUM</td>\n",
       "      <td>10249</td>\n",
       "    </tr>\n",
       "  </tbody>\n",
       "</table>\n",
       "</div>"
      ],
      "text/plain": [
       "              target_names  count\n",
       "0               background      0\n",
       "1                  Alfalfa     46\n",
       "2              Corn-notill   1428\n",
       "3                 Corn-min    830\n",
       "4                     Corn    237\n",
       "5            Grass/Pasture    483\n",
       "6              Grass/Trees    730\n",
       "7      Grass/pasture-mowed     28\n",
       "8            Hay-windrowed    478\n",
       "9                     Oats     20\n",
       "10         Soybeans-notill    972\n",
       "11            Soybeans-min   2455\n",
       "12           Soybean-clean    593\n",
       "13                   Wheat    205\n",
       "14                   Woods   1265\n",
       "15  Bldg-Grass-Tree-Drives    386\n",
       "16      Stone-steel towers     93\n",
       "17                     SUM  10249"
      ]
     },
     "execution_count": 4,
     "metadata": {},
     "output_type": "execute_result"
    }
   ],
   "source": [
    "#| echo: false\n",
    "count = list()\n",
    "c_all = 0\n",
    "for t,name in enumerate(pines_bgFalse.target_names):\n",
    "    c = pines_bgFalse.target[pines_bgFalse.target==t].size\n",
    "    count.append(c)\n",
    "    c_all += c\n",
    "count.append(c_all)\n",
    "count = np.array(count, dtype=int)\n",
    "\n",
    "pd.DataFrame(dict(target_names=np.hstack([pines_bgFalse.target_names,'SUM']),count=count))"
   ]
  },
  {
   "cell_type": "markdown",
   "id": "f2012bcd",
   "metadata": {},
   "source": [
    "## features\n",
    "\n",
    "### load feature WaterAbsorptionChannels excluded\n",
    "\n",
    "- `exclude_WaterAbsorptionChannels=True` : load features WaterAbsorptionChannels excluded (*default*). feature_names(channel_number) are kept.\n"
   ]
  },
  {
   "cell_type": "code",
   "execution_count": 5,
   "id": "eef02b8f",
   "metadata": {
    "scrolled": true
   },
   "outputs": [],
   "source": [
    "pines_exclude_WACs = load_pines(exclude_WaterAbsorptionChannels=True)"
   ]
  },
  {
   "cell_type": "code",
   "execution_count": 6,
   "id": "0b496588",
   "metadata": {
    "scrolled": true
   },
   "outputs": [
    {
     "data": {
      "text/html": [
       "<div>\n",
       "<style scoped>\n",
       "    .dataframe tbody tr th:only-of-type {\n",
       "        vertical-align: middle;\n",
       "    }\n",
       "\n",
       "    .dataframe tbody tr th {\n",
       "        vertical-align: top;\n",
       "    }\n",
       "\n",
       "    .dataframe thead th {\n",
       "        text-align: right;\n",
       "    }\n",
       "</style>\n",
       "<table border=\"1\" class=\"dataframe\">\n",
       "  <thead>\n",
       "    <tr style=\"text-align: right;\">\n",
       "      <th></th>\n",
       "      <th>feature_names</th>\n",
       "    </tr>\n",
       "  </thead>\n",
       "  <tbody>\n",
       "    <tr>\n",
       "      <th>count</th>\n",
       "      <td>200</td>\n",
       "    </tr>\n",
       "    <tr>\n",
       "      <th>unique</th>\n",
       "      <td>200</td>\n",
       "    </tr>\n",
       "    <tr>\n",
       "      <th>top</th>\n",
       "      <td>c00</td>\n",
       "    </tr>\n",
       "    <tr>\n",
       "      <th>freq</th>\n",
       "      <td>1</td>\n",
       "    </tr>\n",
       "  </tbody>\n",
       "</table>\n",
       "</div>"
      ],
      "text/plain": [
       "       feature_names\n",
       "count            200\n",
       "unique           200\n",
       "top              c00\n",
       "freq               1"
      ]
     },
     "execution_count": 6,
     "metadata": {},
     "output_type": "execute_result"
    }
   ],
   "source": [
    "#| echo: false\n",
    "pd.DataFrame(dict(feature_names=pines_exclude_WACs.feature_names)).describe()"
   ]
  },
  {
   "cell_type": "markdown",
   "id": "6a207cb6",
   "metadata": {},
   "source": [
    "- `exclude_WaterAbsorptionChannels=False` : load features WaterAbsorptionChannels included\n"
   ]
  },
  {
   "cell_type": "code",
   "execution_count": 7,
   "id": "1d7dc2c3",
   "metadata": {
    "scrolled": true
   },
   "outputs": [],
   "source": [
    "pines_include_WACs = load_pines(exclude_WaterAbsorptionChannels=False)"
   ]
  },
  {
   "cell_type": "code",
   "execution_count": 8,
   "id": "f5165c14",
   "metadata": {
    "scrolled": true
   },
   "outputs": [
    {
     "data": {
      "text/html": [
       "<div>\n",
       "<style scoped>\n",
       "    .dataframe tbody tr th:only-of-type {\n",
       "        vertical-align: middle;\n",
       "    }\n",
       "\n",
       "    .dataframe tbody tr th {\n",
       "        vertical-align: top;\n",
       "    }\n",
       "\n",
       "    .dataframe thead th {\n",
       "        text-align: right;\n",
       "    }\n",
       "</style>\n",
       "<table border=\"1\" class=\"dataframe\">\n",
       "  <thead>\n",
       "    <tr style=\"text-align: right;\">\n",
       "      <th></th>\n",
       "      <th>feature_names</th>\n",
       "    </tr>\n",
       "  </thead>\n",
       "  <tbody>\n",
       "    <tr>\n",
       "      <th>count</th>\n",
       "      <td>220</td>\n",
       "    </tr>\n",
       "    <tr>\n",
       "      <th>unique</th>\n",
       "      <td>220</td>\n",
       "    </tr>\n",
       "    <tr>\n",
       "      <th>top</th>\n",
       "      <td>c00</td>\n",
       "    </tr>\n",
       "    <tr>\n",
       "      <th>freq</th>\n",
       "      <td>1</td>\n",
       "    </tr>\n",
       "  </tbody>\n",
       "</table>\n",
       "</div>"
      ],
      "text/plain": [
       "       feature_names\n",
       "count            220\n",
       "unique           220\n",
       "top              c00\n",
       "freq               1"
      ]
     },
     "execution_count": 8,
     "metadata": {},
     "output_type": "execute_result"
    }
   ],
   "source": [
    "#| echo: false\n",
    "pd.DataFrame(dict(feature_names=pines_include_WACs.feature_names)).describe()"
   ]
  },
  {
   "cell_type": "markdown",
   "id": "83980d09",
   "metadata": {},
   "source": [
    "### load feature dimension reductioned (PCA)\n",
    "\n",
    "- `pca=0` : no-analyzed (*default*)"
   ]
  },
  {
   "cell_type": "code",
   "execution_count": 9,
   "id": "bff18ead",
   "metadata": {
    "scrolled": true
   },
   "outputs": [],
   "source": [
    "pines_pca0 = load_pines(pca=0)"
   ]
  },
  {
   "cell_type": "code",
   "execution_count": 10,
   "id": "d6a8a445",
   "metadata": {
    "scrolled": true
   },
   "outputs": [
    {
     "data": {
      "text/html": [
       "<div>\n",
       "<style scoped>\n",
       "    .dataframe tbody tr th:only-of-type {\n",
       "        vertical-align: middle;\n",
       "    }\n",
       "\n",
       "    .dataframe tbody tr th {\n",
       "        vertical-align: top;\n",
       "    }\n",
       "\n",
       "    .dataframe thead th {\n",
       "        text-align: right;\n",
       "    }\n",
       "</style>\n",
       "<table border=\"1\" class=\"dataframe\">\n",
       "  <thead>\n",
       "    <tr style=\"text-align: right;\">\n",
       "      <th></th>\n",
       "      <th>feature_names</th>\n",
       "    </tr>\n",
       "  </thead>\n",
       "  <tbody>\n",
       "    <tr>\n",
       "      <th>count</th>\n",
       "      <td>200</td>\n",
       "    </tr>\n",
       "    <tr>\n",
       "      <th>unique</th>\n",
       "      <td>200</td>\n",
       "    </tr>\n",
       "    <tr>\n",
       "      <th>top</th>\n",
       "      <td>c00</td>\n",
       "    </tr>\n",
       "    <tr>\n",
       "      <th>freq</th>\n",
       "      <td>1</td>\n",
       "    </tr>\n",
       "  </tbody>\n",
       "</table>\n",
       "</div>"
      ],
      "text/plain": [
       "       feature_names\n",
       "count            200\n",
       "unique           200\n",
       "top              c00\n",
       "freq               1"
      ]
     },
     "execution_count": 10,
     "metadata": {},
     "output_type": "execute_result"
    }
   ],
   "source": [
    "#| echo: false\n",
    "pd.DataFrame(dict(feature_names=pines_pca0.feature_names)).describe()"
   ]
  },
  {
   "cell_type": "markdown",
   "id": "a5e7cca2",
   "metadata": {},
   "source": [
    "- `pca=0.8` :\n"
   ]
  },
  {
   "cell_type": "code",
   "execution_count": 11,
   "id": "80d00e10",
   "metadata": {
    "scrolled": true
   },
   "outputs": [],
   "source": [
    "pines_pca_p8 = load_pines(pca=0.8)"
   ]
  },
  {
   "cell_type": "code",
   "execution_count": 12,
   "id": "645545a4",
   "metadata": {
    "scrolled": true
   },
   "outputs": [
    {
     "data": {
      "text/html": [
       "<div>\n",
       "<style scoped>\n",
       "    .dataframe tbody tr th:only-of-type {\n",
       "        vertical-align: middle;\n",
       "    }\n",
       "\n",
       "    .dataframe tbody tr th {\n",
       "        vertical-align: top;\n",
       "    }\n",
       "\n",
       "    .dataframe thead th {\n",
       "        text-align: right;\n",
       "    }\n",
       "</style>\n",
       "<table border=\"1\" class=\"dataframe\">\n",
       "  <thead>\n",
       "    <tr style=\"text-align: right;\">\n",
       "      <th></th>\n",
       "      <th>feature_names</th>\n",
       "    </tr>\n",
       "  </thead>\n",
       "  <tbody>\n",
       "    <tr>\n",
       "      <th>count</th>\n",
       "      <td>2</td>\n",
       "    </tr>\n",
       "    <tr>\n",
       "      <th>unique</th>\n",
       "      <td>2</td>\n",
       "    </tr>\n",
       "    <tr>\n",
       "      <th>top</th>\n",
       "      <td>PC1</td>\n",
       "    </tr>\n",
       "    <tr>\n",
       "      <th>freq</th>\n",
       "      <td>1</td>\n",
       "    </tr>\n",
       "  </tbody>\n",
       "</table>\n",
       "</div>"
      ],
      "text/plain": [
       "       feature_names\n",
       "count              2\n",
       "unique             2\n",
       "top              PC1\n",
       "freq               1"
      ]
     },
     "execution_count": 12,
     "metadata": {},
     "output_type": "execute_result"
    }
   ],
   "source": [
    "#| echo: false\n",
    "pd.DataFrame(dict(feature_names=pines_pca_p8.feature_names)).describe()"
   ]
  },
  {
   "cell_type": "markdown",
   "id": "9f508ce3",
   "metadata": {},
   "source": [
    "- `pca=5` : 5 PC\n"
   ]
  },
  {
   "cell_type": "code",
   "execution_count": 13,
   "id": "fc9c0cde",
   "metadata": {
    "scrolled": true
   },
   "outputs": [],
   "source": [
    "pines_pca5 = load_pines(pca=5)"
   ]
  },
  {
   "cell_type": "code",
   "execution_count": 14,
   "id": "6c451f33",
   "metadata": {
    "scrolled": true
   },
   "outputs": [
    {
     "data": {
      "text/html": [
       "<div>\n",
       "<style scoped>\n",
       "    .dataframe tbody tr th:only-of-type {\n",
       "        vertical-align: middle;\n",
       "    }\n",
       "\n",
       "    .dataframe tbody tr th {\n",
       "        vertical-align: top;\n",
       "    }\n",
       "\n",
       "    .dataframe thead th {\n",
       "        text-align: right;\n",
       "    }\n",
       "</style>\n",
       "<table border=\"1\" class=\"dataframe\">\n",
       "  <thead>\n",
       "    <tr style=\"text-align: right;\">\n",
       "      <th></th>\n",
       "      <th>feature_names</th>\n",
       "    </tr>\n",
       "  </thead>\n",
       "  <tbody>\n",
       "    <tr>\n",
       "      <th>count</th>\n",
       "      <td>5</td>\n",
       "    </tr>\n",
       "    <tr>\n",
       "      <th>unique</th>\n",
       "      <td>5</td>\n",
       "    </tr>\n",
       "    <tr>\n",
       "      <th>top</th>\n",
       "      <td>PC1</td>\n",
       "    </tr>\n",
       "    <tr>\n",
       "      <th>freq</th>\n",
       "      <td>1</td>\n",
       "    </tr>\n",
       "  </tbody>\n",
       "</table>\n",
       "</div>"
      ],
      "text/plain": [
       "       feature_names\n",
       "count              5\n",
       "unique             5\n",
       "top              PC1\n",
       "freq               1"
      ]
     },
     "execution_count": 14,
     "metadata": {},
     "output_type": "execute_result"
    }
   ],
   "source": [
    "#| echo: false\n",
    "pd.DataFrame(dict(feature_names=pines_pca5.feature_names)).describe()"
   ]
  },
  {
   "cell_type": "markdown",
   "id": "a589e7da",
   "metadata": {},
   "source": [
    "- `pca= -1`: no-reduction, but analyzed PCs\n"
   ]
  },
  {
   "cell_type": "code",
   "execution_count": 15,
   "id": "09d90434",
   "metadata": {
    "scrolled": true
   },
   "outputs": [],
   "source": [
    "pines_pca_m1 = load_pines(pca=-1)"
   ]
  },
  {
   "cell_type": "code",
   "execution_count": 16,
   "id": "bfa53f3a",
   "metadata": {
    "scrolled": true
   },
   "outputs": [
    {
     "data": {
      "text/html": [
       "<div>\n",
       "<style scoped>\n",
       "    .dataframe tbody tr th:only-of-type {\n",
       "        vertical-align: middle;\n",
       "    }\n",
       "\n",
       "    .dataframe tbody tr th {\n",
       "        vertical-align: top;\n",
       "    }\n",
       "\n",
       "    .dataframe thead th {\n",
       "        text-align: right;\n",
       "    }\n",
       "</style>\n",
       "<table border=\"1\" class=\"dataframe\">\n",
       "  <thead>\n",
       "    <tr style=\"text-align: right;\">\n",
       "      <th></th>\n",
       "      <th>feature_names</th>\n",
       "    </tr>\n",
       "  </thead>\n",
       "  <tbody>\n",
       "    <tr>\n",
       "      <th>count</th>\n",
       "      <td>200</td>\n",
       "    </tr>\n",
       "    <tr>\n",
       "      <th>unique</th>\n",
       "      <td>200</td>\n",
       "    </tr>\n",
       "    <tr>\n",
       "      <th>top</th>\n",
       "      <td>PC1</td>\n",
       "    </tr>\n",
       "    <tr>\n",
       "      <th>freq</th>\n",
       "      <td>1</td>\n",
       "    </tr>\n",
       "  </tbody>\n",
       "</table>\n",
       "</div>"
      ],
      "text/plain": [
       "       feature_names\n",
       "count            200\n",
       "unique           200\n",
       "top              PC1\n",
       "freq               1"
      ]
     },
     "execution_count": 16,
     "metadata": {},
     "output_type": "execute_result"
    }
   ],
   "source": [
    "#| echo: false\n",
    "pd.DataFrame(dict(feature_names=pines_pca_m1.feature_names)).describe()"
   ]
  },
  {
   "cell_type": "markdown",
   "id": "67ee50cf",
   "metadata": {},
   "source": [
    "## targets\n",
    "\n",
    "### load target recategorized\n",
    "\n",
    "- `recategorize_rule=None` : no recategorize (*default*)\n"
   ]
  },
  {
   "cell_type": "code",
   "execution_count": 17,
   "id": "4b438bd0",
   "metadata": {
    "scrolled": true
   },
   "outputs": [],
   "source": [
    "pines_no_recat = load_pines(recategorize_rule=None)"
   ]
  },
  {
   "cell_type": "code",
   "execution_count": 18,
   "id": "9db52e48",
   "metadata": {
    "scrolled": true
   },
   "outputs": [
    {
     "data": {
      "text/html": [
       "<div>\n",
       "<style scoped>\n",
       "    .dataframe tbody tr th:only-of-type {\n",
       "        vertical-align: middle;\n",
       "    }\n",
       "\n",
       "    .dataframe tbody tr th {\n",
       "        vertical-align: top;\n",
       "    }\n",
       "\n",
       "    .dataframe thead th {\n",
       "        text-align: right;\n",
       "    }\n",
       "</style>\n",
       "<table border=\"1\" class=\"dataframe\">\n",
       "  <thead>\n",
       "    <tr style=\"text-align: right;\">\n",
       "      <th></th>\n",
       "      <th>target_names</th>\n",
       "      <th>count</th>\n",
       "    </tr>\n",
       "  </thead>\n",
       "  <tbody>\n",
       "    <tr>\n",
       "      <th>0</th>\n",
       "      <td>background</td>\n",
       "      <td>10776</td>\n",
       "    </tr>\n",
       "    <tr>\n",
       "      <th>1</th>\n",
       "      <td>Alfalfa</td>\n",
       "      <td>46</td>\n",
       "    </tr>\n",
       "    <tr>\n",
       "      <th>2</th>\n",
       "      <td>Corn-notill</td>\n",
       "      <td>1428</td>\n",
       "    </tr>\n",
       "    <tr>\n",
       "      <th>3</th>\n",
       "      <td>Corn-min</td>\n",
       "      <td>830</td>\n",
       "    </tr>\n",
       "    <tr>\n",
       "      <th>4</th>\n",
       "      <td>Corn</td>\n",
       "      <td>237</td>\n",
       "    </tr>\n",
       "    <tr>\n",
       "      <th>5</th>\n",
       "      <td>Grass/Pasture</td>\n",
       "      <td>483</td>\n",
       "    </tr>\n",
       "    <tr>\n",
       "      <th>6</th>\n",
       "      <td>Grass/Trees</td>\n",
       "      <td>730</td>\n",
       "    </tr>\n",
       "    <tr>\n",
       "      <th>7</th>\n",
       "      <td>Grass/pasture-mowed</td>\n",
       "      <td>28</td>\n",
       "    </tr>\n",
       "    <tr>\n",
       "      <th>8</th>\n",
       "      <td>Hay-windrowed</td>\n",
       "      <td>478</td>\n",
       "    </tr>\n",
       "    <tr>\n",
       "      <th>9</th>\n",
       "      <td>Oats</td>\n",
       "      <td>20</td>\n",
       "    </tr>\n",
       "    <tr>\n",
       "      <th>10</th>\n",
       "      <td>Soybeans-notill</td>\n",
       "      <td>972</td>\n",
       "    </tr>\n",
       "    <tr>\n",
       "      <th>11</th>\n",
       "      <td>Soybeans-min</td>\n",
       "      <td>2455</td>\n",
       "    </tr>\n",
       "    <tr>\n",
       "      <th>12</th>\n",
       "      <td>Soybean-clean</td>\n",
       "      <td>593</td>\n",
       "    </tr>\n",
       "    <tr>\n",
       "      <th>13</th>\n",
       "      <td>Wheat</td>\n",
       "      <td>205</td>\n",
       "    </tr>\n",
       "    <tr>\n",
       "      <th>14</th>\n",
       "      <td>Woods</td>\n",
       "      <td>1265</td>\n",
       "    </tr>\n",
       "    <tr>\n",
       "      <th>15</th>\n",
       "      <td>Bldg-Grass-Tree-Drives</td>\n",
       "      <td>386</td>\n",
       "    </tr>\n",
       "    <tr>\n",
       "      <th>16</th>\n",
       "      <td>Stone-steel towers</td>\n",
       "      <td>93</td>\n",
       "    </tr>\n",
       "    <tr>\n",
       "      <th>17</th>\n",
       "      <td>SUM</td>\n",
       "      <td>21025</td>\n",
       "    </tr>\n",
       "  </tbody>\n",
       "</table>\n",
       "</div>"
      ],
      "text/plain": [
       "              target_names  count\n",
       "0               background  10776\n",
       "1                  Alfalfa     46\n",
       "2              Corn-notill   1428\n",
       "3                 Corn-min    830\n",
       "4                     Corn    237\n",
       "5            Grass/Pasture    483\n",
       "6              Grass/Trees    730\n",
       "7      Grass/pasture-mowed     28\n",
       "8            Hay-windrowed    478\n",
       "9                     Oats     20\n",
       "10         Soybeans-notill    972\n",
       "11            Soybeans-min   2455\n",
       "12           Soybean-clean    593\n",
       "13                   Wheat    205\n",
       "14                   Woods   1265\n",
       "15  Bldg-Grass-Tree-Drives    386\n",
       "16      Stone-steel towers     93\n",
       "17                     SUM  21025"
      ]
     },
     "execution_count": 18,
     "metadata": {},
     "output_type": "execute_result"
    }
   ],
   "source": [
    "#| echo: false\n",
    "count = list()\n",
    "c_all = 0\n",
    "for t,name in enumerate(pines_no_recat.target_names):\n",
    "    c = pines_no_recat.target[pines_no_recat.target==t].size\n",
    "    count.append(c)\n",
    "    c_all += c\n",
    "count.append(c_all)\n",
    "count = np.array(count, dtype=int)\n",
    "\n",
    "pd.DataFrame(dict(target_names=np.hstack([pines_no_recat.target_names,'SUM']),count=count))"
   ]
  },
  {
   "cell_type": "markdown",
   "id": "527d1d53",
   "metadata": {},
   "source": [
    "- `recategorize_rule='recategorize17to10.csv'` : select rule\n"
   ]
  },
  {
   "cell_type": "code",
   "execution_count": 19,
   "id": "95a737e1",
   "metadata": {
    "scrolled": true
   },
   "outputs": [],
   "source": [
    "pines_recat = load_pines(recategorize_rule='recategorize17to10.csv')"
   ]
  },
  {
   "cell_type": "code",
   "execution_count": 20,
   "id": "162cea2d",
   "metadata": {
    "scrolled": true
   },
   "outputs": [
    {
     "data": {
      "text/html": [
       "<div>\n",
       "<style scoped>\n",
       "    .dataframe tbody tr th:only-of-type {\n",
       "        vertical-align: middle;\n",
       "    }\n",
       "\n",
       "    .dataframe tbody tr th {\n",
       "        vertical-align: top;\n",
       "    }\n",
       "\n",
       "    .dataframe thead th {\n",
       "        text-align: right;\n",
       "    }\n",
       "</style>\n",
       "<table border=\"1\" class=\"dataframe\">\n",
       "  <thead>\n",
       "    <tr style=\"text-align: right;\">\n",
       "      <th></th>\n",
       "      <th>target_names</th>\n",
       "      <th>count</th>\n",
       "    </tr>\n",
       "  </thead>\n",
       "  <tbody>\n",
       "    <tr>\n",
       "      <th>0</th>\n",
       "      <td>BackGround</td>\n",
       "      <td>10824</td>\n",
       "    </tr>\n",
       "    <tr>\n",
       "      <th>1</th>\n",
       "      <td>Alfalfa</td>\n",
       "      <td>46</td>\n",
       "    </tr>\n",
       "    <tr>\n",
       "      <th>2</th>\n",
       "      <td>Corn</td>\n",
       "      <td>2495</td>\n",
       "    </tr>\n",
       "    <tr>\n",
       "      <th>3</th>\n",
       "      <td>Grass</td>\n",
       "      <td>1213</td>\n",
       "    </tr>\n",
       "    <tr>\n",
       "      <th>4</th>\n",
       "      <td>Hay-windrowed</td>\n",
       "      <td>478</td>\n",
       "    </tr>\n",
       "    <tr>\n",
       "      <th>5</th>\n",
       "      <td>Soybeans</td>\n",
       "      <td>4020</td>\n",
       "    </tr>\n",
       "    <tr>\n",
       "      <th>6</th>\n",
       "      <td>Wheat</td>\n",
       "      <td>205</td>\n",
       "    </tr>\n",
       "    <tr>\n",
       "      <th>7</th>\n",
       "      <td>Woods</td>\n",
       "      <td>1265</td>\n",
       "    </tr>\n",
       "    <tr>\n",
       "      <th>8</th>\n",
       "      <td>Bldg-Grass-Tree-Drives</td>\n",
       "      <td>386</td>\n",
       "    </tr>\n",
       "    <tr>\n",
       "      <th>9</th>\n",
       "      <td>Stone-steel towers</td>\n",
       "      <td>93</td>\n",
       "    </tr>\n",
       "    <tr>\n",
       "      <th>10</th>\n",
       "      <td>SUM</td>\n",
       "      <td>21025</td>\n",
       "    </tr>\n",
       "  </tbody>\n",
       "</table>\n",
       "</div>"
      ],
      "text/plain": [
       "              target_names  count\n",
       "0               BackGround  10824\n",
       "1                  Alfalfa     46\n",
       "2                     Corn   2495\n",
       "3                    Grass   1213\n",
       "4            Hay-windrowed    478\n",
       "5                 Soybeans   4020\n",
       "6                    Wheat    205\n",
       "7                    Woods   1265\n",
       "8   Bldg-Grass-Tree-Drives    386\n",
       "9       Stone-steel towers     93\n",
       "10                     SUM  21025"
      ]
     },
     "execution_count": 20,
     "metadata": {},
     "output_type": "execute_result"
    }
   ],
   "source": [
    "#| echo: false\n",
    "count = list()\n",
    "c_all = 0\n",
    "for t,name in enumerate(pines_recat.target_names):\n",
    "    c = pines_recat.target[pines_recat.target==t].size\n",
    "    count.append(c)\n",
    "    c_all += c\n",
    "count.append(c_all)\n",
    "count = np.array(count, dtype=int)\n",
    "\n",
    "pd.DataFrame(dict(target_names=np.hstack([pines_recat.target_names,'SUM']),count=count))"
   ]
  },
  {
   "cell_type": "markdown",
   "id": "061ff709",
   "metadata": {},
   "source": [
    "- `recategorize_rule=recategorize17to10_csv` : select 17to10rule from resourced example\n",
    "    after `from IndianPines import recategorize17to10_csv`\n"
   ]
  },
  {
   "cell_type": "code",
   "execution_count": 21,
   "id": "57599819",
   "metadata": {
    "scrolled": true
   },
   "outputs": [],
   "source": [
    "from IndianPines import recategorize17to10_csv\n",
    "pines_recat_ruled = load_pines(recategorize_rule=recategorize17to10_csv)"
   ]
  },
  {
   "cell_type": "markdown",
   "id": "12b9ec7b",
   "metadata": {},
   "source": [
    "### load target from GIC.mat\n",
    "\n",
    "- `gt_gic=True`: from GIC.mat (*default*)\n"
   ]
  },
  {
   "cell_type": "code",
   "execution_count": 22,
   "id": "ffb4e96e",
   "metadata": {
    "scrolled": true
   },
   "outputs": [],
   "source": [
    "pines_gt_gic = load_pines(gt_gic=True)"
   ]
  },
  {
   "cell_type": "code",
   "execution_count": 23,
   "id": "fbe2b147",
   "metadata": {
    "scrolled": true
   },
   "outputs": [
    {
     "data": {
      "text/html": [
       "<div>\n",
       "<style scoped>\n",
       "    .dataframe tbody tr th:only-of-type {\n",
       "        vertical-align: middle;\n",
       "    }\n",
       "\n",
       "    .dataframe tbody tr th {\n",
       "        vertical-align: top;\n",
       "    }\n",
       "\n",
       "    .dataframe thead th {\n",
       "        text-align: right;\n",
       "    }\n",
       "</style>\n",
       "<table border=\"1\" class=\"dataframe\">\n",
       "  <thead>\n",
       "    <tr style=\"text-align: right;\">\n",
       "      <th></th>\n",
       "      <th>target_names</th>\n",
       "      <th>count</th>\n",
       "    </tr>\n",
       "  </thead>\n",
       "  <tbody>\n",
       "    <tr>\n",
       "      <th>0</th>\n",
       "      <td>background</td>\n",
       "      <td>10776</td>\n",
       "    </tr>\n",
       "    <tr>\n",
       "      <th>1</th>\n",
       "      <td>Alfalfa</td>\n",
       "      <td>46</td>\n",
       "    </tr>\n",
       "    <tr>\n",
       "      <th>2</th>\n",
       "      <td>Corn-notill</td>\n",
       "      <td>1428</td>\n",
       "    </tr>\n",
       "    <tr>\n",
       "      <th>3</th>\n",
       "      <td>Corn-min</td>\n",
       "      <td>830</td>\n",
       "    </tr>\n",
       "    <tr>\n",
       "      <th>4</th>\n",
       "      <td>Corn</td>\n",
       "      <td>237</td>\n",
       "    </tr>\n",
       "    <tr>\n",
       "      <th>5</th>\n",
       "      <td>Grass/Pasture</td>\n",
       "      <td>483</td>\n",
       "    </tr>\n",
       "    <tr>\n",
       "      <th>6</th>\n",
       "      <td>Grass/Trees</td>\n",
       "      <td>730</td>\n",
       "    </tr>\n",
       "    <tr>\n",
       "      <th>7</th>\n",
       "      <td>Grass/pasture-mowed</td>\n",
       "      <td>28</td>\n",
       "    </tr>\n",
       "    <tr>\n",
       "      <th>8</th>\n",
       "      <td>Hay-windrowed</td>\n",
       "      <td>478</td>\n",
       "    </tr>\n",
       "    <tr>\n",
       "      <th>9</th>\n",
       "      <td>Oats</td>\n",
       "      <td>20</td>\n",
       "    </tr>\n",
       "    <tr>\n",
       "      <th>10</th>\n",
       "      <td>Soybeans-notill</td>\n",
       "      <td>972</td>\n",
       "    </tr>\n",
       "    <tr>\n",
       "      <th>11</th>\n",
       "      <td>Soybeans-min</td>\n",
       "      <td>2455</td>\n",
       "    </tr>\n",
       "    <tr>\n",
       "      <th>12</th>\n",
       "      <td>Soybean-clean</td>\n",
       "      <td>593</td>\n",
       "    </tr>\n",
       "    <tr>\n",
       "      <th>13</th>\n",
       "      <td>Wheat</td>\n",
       "      <td>205</td>\n",
       "    </tr>\n",
       "    <tr>\n",
       "      <th>14</th>\n",
       "      <td>Woods</td>\n",
       "      <td>1265</td>\n",
       "    </tr>\n",
       "    <tr>\n",
       "      <th>15</th>\n",
       "      <td>Bldg-Grass-Tree-Drives</td>\n",
       "      <td>386</td>\n",
       "    </tr>\n",
       "    <tr>\n",
       "      <th>16</th>\n",
       "      <td>Stone-steel towers</td>\n",
       "      <td>93</td>\n",
       "    </tr>\n",
       "    <tr>\n",
       "      <th>17</th>\n",
       "      <td>SUM</td>\n",
       "      <td>21025</td>\n",
       "    </tr>\n",
       "  </tbody>\n",
       "</table>\n",
       "</div>"
      ],
      "text/plain": [
       "              target_names  count\n",
       "0               background  10776\n",
       "1                  Alfalfa     46\n",
       "2              Corn-notill   1428\n",
       "3                 Corn-min    830\n",
       "4                     Corn    237\n",
       "5            Grass/Pasture    483\n",
       "6              Grass/Trees    730\n",
       "7      Grass/pasture-mowed     28\n",
       "8            Hay-windrowed    478\n",
       "9                     Oats     20\n",
       "10         Soybeans-notill    972\n",
       "11            Soybeans-min   2455\n",
       "12           Soybean-clean    593\n",
       "13                   Wheat    205\n",
       "14                   Woods   1265\n",
       "15  Bldg-Grass-Tree-Drives    386\n",
       "16      Stone-steel towers     93\n",
       "17                     SUM  21025"
      ]
     },
     "execution_count": 23,
     "metadata": {},
     "output_type": "execute_result"
    }
   ],
   "source": [
    "#| echo: false\n",
    "count = list()\n",
    "c_all = 0\n",
    "for t,name in enumerate(pines_gt_gic.target_names):\n",
    "    c = pines_gt_gic.target[pines_gt_gic.target==t].size\n",
    "    count.append(c)\n",
    "    c_all += c\n",
    "count.append(c_all)\n",
    "count = np.array(count, dtype=int)\n",
    "\n",
    "pd.DataFrame(dict(target_names=np.hstack([pines_gt_gic.target_names,'SUM']),count=count))"
   ]
  },
  {
   "cell_type": "markdown",
   "id": "0b866b8f",
   "metadata": {},
   "source": [
    "- `gt_gic=False`: from Original TIF\n"
   ]
  },
  {
   "cell_type": "code",
   "execution_count": 24,
   "id": "75178023",
   "metadata": {
    "scrolled": true
   },
   "outputs": [],
   "source": [
    "pines_gt_org = load_pines(gt_gic=False)"
   ]
  },
  {
   "cell_type": "code",
   "execution_count": 25,
   "id": "f2aeb2c6",
   "metadata": {
    "scrolled": true
   },
   "outputs": [
    {
     "data": {
      "text/html": [
       "<div>\n",
       "<style scoped>\n",
       "    .dataframe tbody tr th:only-of-type {\n",
       "        vertical-align: middle;\n",
       "    }\n",
       "\n",
       "    .dataframe tbody tr th {\n",
       "        vertical-align: top;\n",
       "    }\n",
       "\n",
       "    .dataframe thead th {\n",
       "        text-align: right;\n",
       "    }\n",
       "</style>\n",
       "<table border=\"1\" class=\"dataframe\">\n",
       "  <thead>\n",
       "    <tr style=\"text-align: right;\">\n",
       "      <th></th>\n",
       "      <th>target_names</th>\n",
       "      <th>count</th>\n",
       "    </tr>\n",
       "  </thead>\n",
       "  <tbody>\n",
       "    <tr>\n",
       "      <th>0</th>\n",
       "      <td>background</td>\n",
       "      <td>10659</td>\n",
       "    </tr>\n",
       "    <tr>\n",
       "      <th>1</th>\n",
       "      <td>Alfalfa</td>\n",
       "      <td>54</td>\n",
       "    </tr>\n",
       "    <tr>\n",
       "      <th>2</th>\n",
       "      <td>Corn-notill</td>\n",
       "      <td>1434</td>\n",
       "    </tr>\n",
       "    <tr>\n",
       "      <th>3</th>\n",
       "      <td>Corn-min</td>\n",
       "      <td>834</td>\n",
       "    </tr>\n",
       "    <tr>\n",
       "      <th>4</th>\n",
       "      <td>Corn</td>\n",
       "      <td>234</td>\n",
       "    </tr>\n",
       "    <tr>\n",
       "      <th>5</th>\n",
       "      <td>Grass/Pasture</td>\n",
       "      <td>497</td>\n",
       "    </tr>\n",
       "    <tr>\n",
       "      <th>6</th>\n",
       "      <td>Grass/Trees</td>\n",
       "      <td>747</td>\n",
       "    </tr>\n",
       "    <tr>\n",
       "      <th>7</th>\n",
       "      <td>Grass/pasture-mowed</td>\n",
       "      <td>26</td>\n",
       "    </tr>\n",
       "    <tr>\n",
       "      <th>8</th>\n",
       "      <td>Hay-windrowed</td>\n",
       "      <td>489</td>\n",
       "    </tr>\n",
       "    <tr>\n",
       "      <th>9</th>\n",
       "      <td>Oats</td>\n",
       "      <td>20</td>\n",
       "    </tr>\n",
       "    <tr>\n",
       "      <th>10</th>\n",
       "      <td>Soybeans-notill</td>\n",
       "      <td>968</td>\n",
       "    </tr>\n",
       "    <tr>\n",
       "      <th>11</th>\n",
       "      <td>Soybeans-min</td>\n",
       "      <td>2468</td>\n",
       "    </tr>\n",
       "    <tr>\n",
       "      <th>12</th>\n",
       "      <td>Soybean-clean</td>\n",
       "      <td>614</td>\n",
       "    </tr>\n",
       "    <tr>\n",
       "      <th>13</th>\n",
       "      <td>Wheat</td>\n",
       "      <td>212</td>\n",
       "    </tr>\n",
       "    <tr>\n",
       "      <th>14</th>\n",
       "      <td>Woods</td>\n",
       "      <td>1294</td>\n",
       "    </tr>\n",
       "    <tr>\n",
       "      <th>15</th>\n",
       "      <td>Bldg-Grass-Tree-Drives</td>\n",
       "      <td>380</td>\n",
       "    </tr>\n",
       "    <tr>\n",
       "      <th>16</th>\n",
       "      <td>Stone-steel towers</td>\n",
       "      <td>95</td>\n",
       "    </tr>\n",
       "    <tr>\n",
       "      <th>17</th>\n",
       "      <td>SUM</td>\n",
       "      <td>21025</td>\n",
       "    </tr>\n",
       "  </tbody>\n",
       "</table>\n",
       "</div>"
      ],
      "text/plain": [
       "              target_names  count\n",
       "0               background  10659\n",
       "1                  Alfalfa     54\n",
       "2              Corn-notill   1434\n",
       "3                 Corn-min    834\n",
       "4                     Corn    234\n",
       "5            Grass/Pasture    497\n",
       "6              Grass/Trees    747\n",
       "7      Grass/pasture-mowed     26\n",
       "8            Hay-windrowed    489\n",
       "9                     Oats     20\n",
       "10         Soybeans-notill    968\n",
       "11            Soybeans-min   2468\n",
       "12           Soybean-clean    614\n",
       "13                   Wheat    212\n",
       "14                   Woods   1294\n",
       "15  Bldg-Grass-Tree-Drives    380\n",
       "16      Stone-steel towers     95\n",
       "17                     SUM  21025"
      ]
     },
     "execution_count": 25,
     "metadata": {},
     "output_type": "execute_result"
    }
   ],
   "source": [
    "#| echo: false\n",
    "count = list()\n",
    "c_all = 0\n",
    "for t,name in enumerate(pines_gt_org.target_names):\n",
    "    c = pines_gt_org.target[pines_gt_org.target==t].size\n",
    "    count.append(c)\n",
    "    c_all += c\n",
    "count.append(c_all)\n",
    "count = np.array(count, dtype=int)\n",
    "\n",
    "pd.DataFrame(dict(target_names=np.hstack([pines_gt_org.target_names,'SUM']),count=count))"
   ]
  },
  {
   "cell_type": "markdown",
   "id": "d6a67646",
   "metadata": {},
   "source": [
    "## plot map\n",
    "\n",
    "- original 17 categories\n"
   ]
  },
  {
   "cell_type": "code",
   "execution_count": 26,
   "id": "3cee3dc0",
   "metadata": {
    "scrolled": true
   },
   "outputs": [
    {
     "data": {
      "image/png": "[encoded data removed]",
      "text/plain": [
       "<Figure size 640x480 with 1 Axes>"
      ]
     },
     "metadata": {},
     "output_type": "display_data"
    }
   ],
   "source": [
    "from matplotlib import pyplot as plt\n",
    "from matplotlib import colors\n",
    "\n",
    "pines = load_pines()\n",
    "coordinates_df = pd.DataFrame(pines.coordinates, columns=pines.coordinate_names)\n",
    "#features_df = pd.DataFrame(pines.features, columns=pines.feature_names)\n",
    "#target_df = pd.DataFrame(pines.target_names[pines.target],columns=['category'])\n",
    "hex_df = pd.DataFrame(pines.hex_names[pines.target],columns=['hex-color'])\n",
    "\n",
    "new_coordinates = pd.DataFrame([(x, y) for y in range(0,145) for x in range(0,145)],columns=['column#','row#'])\n",
    "hex_old_coordinates = pd.concat([coordinates_df,hex_df],axis=1)\n",
    "coordinates_hex = pd.merge(new_coordinates, hex_old_coordinates,on=['column#','row#'],how='left')\n",
    "coordinates_hex = coordinates_hex.fillna('#ffffff')\n",
    "hex_df = coordinates_hex\n",
    "\n",
    "plt.imshow(colors.to_rgba_array(hex_df['hex-color'].values).reshape([145,145,4]))\n",
    "for i, c in enumerate(pines.hex_names):\n",
    "    plt.scatter([], [], c=c, marker=\"s\", label=pines.target_names[i])\n",
    "    plt.legend(bbox_to_anchor=(1, 1), loc=\"upper left\")"
   ]
  },
  {
   "cell_type": "markdown",
   "id": "51489dd7",
   "metadata": {},
   "source": [
    "- recategorized 17 to 10\n"
   ]
  },
  {
   "cell_type": "code",
   "execution_count": 27,
   "id": "5d4d2302",
   "metadata": {
    "collapsed": true
   },
   "outputs": [
    {
     "data": {
      "image/png": "[encoded data removed]",
      "text/plain": [
       "<Figure size 640x480 with 1 Axes>"
      ]
     },
     "metadata": {},
     "output_type": "display_data"
    }
   ],
   "source": [
    "#| echo: false\n",
    "\n",
    "from IndianPines import recategorize17to10_csv\n",
    "\n",
    "pines = load_pines(recategorize_rule=recategorize17to10_csv)\n",
    "coordinates_df = pd.DataFrame(pines.coordinates, columns=pines.coordinate_names)\n",
    "#features_df = pd.DataFrame(pines.features, columns=pines.feature_names)\n",
    "#target_df = pd.DataFrame(pines.target_names[pines.target],columns=['category'])\n",
    "hex_df = pd.DataFrame(pines.hex_names[pines.target],columns=['hex-color'])\n",
    "\n",
    "new_coordinates = pd.DataFrame([(x, y) for y in range(0,145) for x in range(0,145)],columns=['column#','row#'])\n",
    "hex_old_coordinates = pd.concat([coordinates_df,hex_df],axis=1)\n",
    "coordinates_hex = pd.merge(new_coordinates, hex_old_coordinates,on=['column#','row#'],how='left')\n",
    "coordinates_hex = coordinates_hex.fillna('#ffffff')\n",
    "hex_df = coordinates_hex\n",
    "\n",
    "plt.imshow(colors.to_rgba_array(hex_df['hex-color'].values).reshape([145,145,4]))\n",
    "for i, c in enumerate(pines.hex_names):\n",
    "    plt.scatter([], [], c=c, marker=\"s\", label=pines.target_names[i])\n",
    "    plt.legend(bbox_to_anchor=(1, 1), loc=\"upper left\")"
   ]
  }
 ],
 "metadata": {
  "kernelspec": {
   "display_name": "Python 3 (ipykernel)",
   "language": "python",
   "name": "python3"
  },
  "language_info": {
   "codemirror_mode": {
    "name": "ipython",
    "version": 3
   },
   "file_extension": ".py",
   "mimetype": "text/x-python",
   "name": "python",
   "nbconvert_exporter": "python",
   "pygments_lexer": "ipython3",
   "version": "3.10.0"
  }
 },
 "nbformat": 4,
 "nbformat_minor": 5
}
