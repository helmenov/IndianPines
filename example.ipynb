{
 "cells": [
  {
   "cell_type": "code",
   "execution_count": 1,
   "metadata": {},
   "outputs": [
    {
     "ename": "ModuleNotFoundError",
     "evalue": "No module named 'sklearn'",
     "output_type": "error",
     "traceback": [
      "\u001b[0;31m---------------------------------------------------------------------------\u001b[0m",
      "\u001b[0;31mModuleNotFoundError\u001b[0m                       Traceback (most recent call last)",
      "Input \u001b[0;32mIn [1]\u001b[0m, in \u001b[0;36m<cell line: 1>\u001b[0;34m()\u001b[0m\n\u001b[0;32m----> 1\u001b[0m \u001b[38;5;28;01mimport\u001b[39;00m \u001b[38;5;21;01mIndianPines\u001b[39;00m \u001b[38;5;28;01mas\u001b[39;00m \u001b[38;5;21;01mpines\u001b[39;00m\n\u001b[1;32m      2\u001b[0m \u001b[38;5;28;01mfrom\u001b[39;00m \u001b[38;5;21;01mmatplotlib\u001b[39;00m \u001b[38;5;28;01mimport\u001b[39;00m colors\n\u001b[1;32m      3\u001b[0m \u001b[38;5;28;01mfrom\u001b[39;00m \u001b[38;5;21;01mmatplotlib\u001b[39;00m \u001b[38;5;28;01mimport\u001b[39;00m pyplot \n",
      "File \u001b[0;32m~/MyRepository/IndianPines/IndianPines/__init__.py:3\u001b[0m, in \u001b[0;36m<module>\u001b[0;34m\u001b[0m\n\u001b[1;32m      1\u001b[0m __version__ \u001b[38;5;241m=\u001b[39m \u001b[38;5;241m0.03\u001b[39m\n\u001b[0;32m----> 3\u001b[0m \u001b[38;5;28;01mfrom\u001b[39;00m \u001b[38;5;21;01m.\u001b[39;00m\u001b[38;5;21;01mdataset\u001b[39;00m \u001b[38;5;28;01mimport\u001b[39;00m load,make_dataset\n",
      "File \u001b[0;32m~/MyRepository/IndianPines/IndianPines/dataset.py:1\u001b[0m, in \u001b[0;36m<module>\u001b[0;34m\u001b[0m\n\u001b[0;32m----> 1\u001b[0m \u001b[38;5;28;01mfrom\u001b[39;00m \u001b[38;5;21;01msklearn\u001b[39;00m\u001b[38;5;21;01m.\u001b[39;00m\u001b[38;5;21;01mutils\u001b[39;00m \u001b[38;5;28;01mimport\u001b[39;00m Bunch\n\u001b[1;32m      2\u001b[0m \u001b[38;5;28;01mimport\u001b[39;00m \u001b[38;5;21;01mtifffile\u001b[39;00m\n\u001b[1;32m      3\u001b[0m \u001b[38;5;28;01mimport\u001b[39;00m \u001b[38;5;21;01mnumpy\u001b[39;00m \u001b[38;5;28;01mas\u001b[39;00m \u001b[38;5;21;01mnp\u001b[39;00m\n",
      "\u001b[0;31mModuleNotFoundError\u001b[0m: No module named 'sklearn'"
     ]
    }
   ],
   "source": [
    "import IndianPines as pines\n",
    "from matplotlib import colors\n",
    "from matplotlib import pyplot \n",
    "import pandas as pd\n",
    "import numpy as np\n",
    "\n",
    "pines.make_dataset()\n",
    "\n",
    "conf = {\n",
    "    \"pca\": 5,\n",
    "    #\"recategorize_rule\": 'data/recategorize17to10.csv',\n",
    "    \"background\":False,\n",
    "}\n",
    "IndianPines = pines.load(**conf)"
   ]
  },
  {
   "cell_type": "code",
   "execution_count": null,
   "metadata": {},
   "outputs": [],
   "source": [
    "np.max(IndianPines.target)"
   ]
  },
  {
   "cell_type": "code",
   "execution_count": null,
   "metadata": {},
   "outputs": [],
   "source": [
    "cordinates_df = pd.DataFrame(IndianPines.cordinates, columns=IndianPines.cordinate_names)\n",
    "features_df = pd.DataFrame(IndianPines.features, columns=IndianPines.feature_names)\n",
    "target_df = pd.DataFrame(IndianPines.target_names[IndianPines.target],columns=['category'])\n",
    "hex_df = pd.DataFrame(IndianPines.hex_names[IndianPines.target],columns=['hex-color'])\n",
    "data_df = pd.concat([cordinates_df,features_df,target_df,hex_df],axis=1)\n",
    "data_df = data_df.set_index(['column#','row#'])\n",
    "data_df.info()"
   ]
  },
  {
   "cell_type": "code",
   "execution_count": null,
   "metadata": {},
   "outputs": [],
   "source": [
    "# Variable 'PC2'  of  head 5 samples\n",
    "display(data_df['PC2'].head(10))"
   ]
  },
  {
   "cell_type": "code",
   "execution_count": null,
   "metadata": {},
   "outputs": [],
   "source": [
    "# datas of  sample cordicates(10,30) \n",
    "display(data_df.loc[(10,30)])"
   ]
  },
  {
   "cell_type": "code",
   "execution_count": null,
   "metadata": {},
   "outputs": [],
   "source": [
    "#display(pd.DataFrame(target_df['category'].value_counts()))\n",
    "display(pd.DataFrame(target_df['category'].value_counts().sort_index()))"
   ]
  },
  {
   "cell_type": "code",
   "execution_count": null,
   "metadata": {},
   "outputs": [],
   "source": [
    "if conf['background'] == False:\n",
    "   new_cordinates = pd.DataFrame([(x, y) for x in range(0,145) for y in range(0,145)],columns=['column#','row#'])\n",
    "   hex_old_cordinates = pd.concat([cordinates_df,hex_df],axis=1)\n",
    "   cordinates_hex = pd.merge(new_cordinates, hex_old_cordinates,on=['column#','row#'],how='left')\n",
    "   cordinates_hex = cordinates_hex.fillna('#ffffff')\n",
    "   hex_df = cordinates_hex\n",
    "\n",
    "pyplot.imshow(colors.to_rgba_array(hex_df['hex-color'].values).reshape([145,145,4]))\n",
    "                                                                "
   ]
  },
  {
   "cell_type": "code",
   "execution_count": null,
   "metadata": {},
   "outputs": [],
   "source": [
    "Traininglist='data/TrainingSampleExample.csv'\n",
    "trlist_df = pd.read_csv(Traininglist)\n",
    "mapcordinates_df = pd.DataFrame([(x, y) for x in range(0,145) for y in range(0,145)],columns=['column#','row#'])\n",
    "trlist_df = pd.concat([mapcordinates_df,trlist_df],axis=1)\n",
    "trlist_df = trlist_df.set_index(['column#','row#'])\n",
    "tr_df = pd.merge(data_df,trlist_df,on=['column#','row#'],how='left')\n",
    "\n",
    "# sampled by tr05\n",
    "trdata_df = tr_df.query('tr05>0') \n",
    "\n",
    "# incredients\n",
    "display(pd.DataFrame(trdata_df['category'].value_counts()))\n",
    "\n",
    "# map\n",
    "tr_cordinates_hex = pd.merge(mapcordinates_df,trdata_df['hex-color'],on=['column#','row#'],how='left')\n",
    "tr_cordinates_hex = tr_cordinates_hex.fillna('#ffffffff')\n",
    "pyplot.imshow(colors.to_rgba_array(tr_cordinates_hex['hex-color'].values).reshape([145,145,4]))"
   ]
  }
 ],
 "metadata": {
  "kernelspec": {
   "display_name": "Python 3 (ipykernel)",
   "language": "python",
   "name": "python3"
  },
  "language_info": {
   "codemirror_mode": {
    "name": "ipython",
    "version": 3
   },
   "file_extension": ".py",
   "mimetype": "text/x-python",
   "name": "python",
   "nbconvert_exporter": "python",
   "pygments_lexer": "ipython3",
   "version": "3.10.0"
  },
  "vscode": {
   "interpreter": {
    "hash": "7e8ced276e30e3f66d32633da90d3011a246f563ae1ec095f262d165db770436"
   }
  }
 },
 "nbformat": 4,
 "nbformat_minor": 2
}
